{
  "nbformat": 4,
  "nbformat_minor": 0,
  "metadata": {
    "colab": {
      "name": "FSI - COP-Kmeans.ipynb",
      "provenance": [],
      "include_colab_link": true
    },
    "kernelspec": {
      "name": "python3",
      "display_name": "Python 3"
    },
    "language_info": {
      "name": "python"
    }
  },
  "cells": [
    {
      "cell_type": "markdown",
      "metadata": {
        "id": "view-in-github",
        "colab_type": "text"
      },
      "source": [
        "<a href=\"https://colab.research.google.com/github/Suniaster/COP-Kmeans/blob/main/FSI_COP_Kmeans.ipynb\" target=\"_parent\"><img src=\"https://colab.research.google.com/assets/colab-badge.svg\" alt=\"Open In Colab\"/></a>"
      ]
    },
    {
      "cell_type": "markdown",
      "metadata": {
        "id": "sVqrb46yxrsw"
      },
      "source": [
        "# COP - Kmeans"
      ]
    },
    {
      "cell_type": "code",
      "metadata": {
        "id": "CICFdQh_xh8t"
      },
      "source": [
        "import numpy as np\n",
        "import pandas as pd\n",
        "import csv\n",
        "from sklearn.model_selection import train_test_split\n",
        "import matplotlib.pyplot as plt\n",
        "from sklearn import datasets"
      ],
      "execution_count": 1,
      "outputs": []
    },
    {
      "cell_type": "markdown",
      "metadata": {
        "id": "zIqpn1YbzD2T"
      },
      "source": [
        "## Dividindo Data-set"
      ]
    },
    {
      "cell_type": "code",
      "metadata": {
        "id": "twEY2Me1zJAk"
      },
      "source": [
        "\n",
        "iris = datasets.load_iris()\n",
        "iris.target\n",
        "\n",
        "X = np.concatenate( (iris.data, np.array([iris.target]).T), axis=1)"
      ],
      "execution_count": 2,
      "outputs": []
    },
    {
      "cell_type": "code",
      "metadata": {
        "id": "41u08p0lzuYo"
      },
      "source": [
        "# X = data.to_numpy();\n",
        "# labels_dict = { \n",
        "#    'Iris-versicolor': 0,\n",
        "#     'Iris-virginica': 1,\n",
        "#     'Iris-setosa': 2\n",
        "# }\n",
        "# for row in X:\n",
        "#   row[4] = labels_dict[row[4]]"
      ],
      "execution_count": 3,
      "outputs": []
    },
    {
      "cell_type": "code",
      "metadata": {
        "id": "OTGEhQpC1XAn"
      },
      "source": [
        "# Remover algumas labels\n",
        "x_unlabeled, x_labeled = train_test_split(X, train_size=0.8)\n",
        "\n",
        "for row in x_unlabeled:\n",
        "  row[4] = None\n",
        "\n",
        "dataset = np.concatenate((x_labeled, x_unlabeled))\n",
        "dataset = dataset.tolist()\n",
        "for row in dataset:\n",
        "  if np.isnan(row[4]):\n",
        "    row[4] = None"
      ],
      "execution_count": 4,
      "outputs": []
    },
    {
      "cell_type": "markdown",
      "metadata": {
        "id": "f0j3pmvQ27k4"
      },
      "source": [
        "## COP"
      ]
    },
    {
      "cell_type": "code",
      "metadata": {
        "id": "3rxJ0g651aD1"
      },
      "source": [
        "# Criando resticoes\n",
        "def create_retrictions(dataset):\n",
        "  must_link = []\n",
        "  must_not_link = []\n",
        "  for i in range(len(dataset)):\n",
        "    for j in range(len(dataset)):\n",
        "      if i == j or i > j:\n",
        "        continue\n",
        "      if dataset[i][4] == None or dataset[j][4] == None:\n",
        "        continue\n",
        "      if dataset[i][4] == dataset[j][4]:\n",
        "        must_link.append( (i, j) )\n",
        "      else:\n",
        "        must_not_link.append((i,j))\n",
        "  return must_link, must_not_link"
      ],
      "execution_count": 5,
      "outputs": []
    },
    {
      "cell_type": "code",
      "metadata": {
        "id": "RpGC1bWt4HfD"
      },
      "source": [
        "def create_clusters():\n",
        "  n_cluster = 3\n",
        "  clusters = []\n",
        "  centroids = []\n",
        "\n",
        "  for i in range(len(dataset)):\n",
        "    if  dataset[i][4] is None:\n",
        "      continue\n",
        "    label_found = False\n",
        "    for centroid in centroids:\n",
        "      if centroid[4] ==  dataset[i][4]:\n",
        "        label_found = True\n",
        "    if label_found == False:\n",
        "      centroids.append( dataset[i])\n",
        "      clusters.append([i])\n",
        "  return centroids, clusters"
      ],
      "execution_count": 6,
      "outputs": []
    },
    {
      "cell_type": "code",
      "metadata": {
        "id": "8X6IaNVL-yO4"
      },
      "source": [
        "def rule_check(rule, i, j):\n",
        "  if rule[0] == i and rule [1] == j:\n",
        "    return True\n",
        "  if rule[1] == i and rule [0] == j:\n",
        "    return True\n",
        "  return False"
      ],
      "execution_count": 7,
      "outputs": []
    },
    {
      "cell_type": "code",
      "metadata": {
        "colab": {
          "base_uri": "https://localhost:8080/"
        },
        "id": "LwnZzdKA44jW",
        "outputId": "f88ce0eb-ecdd-4280-816e-3c8f6e126645"
      },
      "source": [
        "def violate_constraint(evaluated_index, cluster, must_link, not_link):\n",
        "    for rule in not_link:\n",
        "      for cluster_point in cluster:\n",
        "        if rule_check(rule, cluster_point, evaluated_index):\n",
        "          return True\n",
        "    return False\n",
        "\n",
        "def data_set_dist(row1, row2):\n",
        "  sum = 0\n",
        "  for i in range(len(row[:-1])):\n",
        "    sum += (row1[i] - row2[i])**2\n",
        "  return sum\n",
        "\n",
        "violate_constraint(1, [0], [], [(0, 1)])"
      ],
      "execution_count": 8,
      "outputs": [
        {
          "output_type": "execute_result",
          "data": {
            "text/plain": [
              "True"
            ]
          },
          "metadata": {},
          "execution_count": 8
        }
      ]
    },
    {
      "cell_type": "code",
      "metadata": {
        "id": "FHrKuc08l_4y"
      },
      "source": [
        "def get_closest_cluster_index(centroids, dataset_row, idx, must_link, must_not_link):\n",
        "  min_dist  = 100000000000\n",
        "  min_index = None\n",
        "  for i in range(len(centroids)):\n",
        "    distance = data_set_dist(centroids[i], dataset_row)\n",
        "    if distance < min_dist and not violate_constraint(idx, clusters[i], must_link, must_not_link):\n",
        "      min_dist = distance\n",
        "      min_index = i\n",
        "  return min_index"
      ],
      "execution_count": 9,
      "outputs": []
    },
    {
      "cell_type": "code",
      "metadata": {
        "id": "LTIiPPuIuWnu"
      },
      "source": [
        "def get_cluster_data(cluster_idx):\n",
        "  cluster_data = []\n",
        "  for idx in clusters[cluster_idx]:\n",
        "    cluster_data.append(dataset[idx])\n",
        "  return np.asarray(cluster_data)"
      ],
      "execution_count": 10,
      "outputs": []
    },
    {
      "cell_type": "code",
      "metadata": {
        "id": "SNiNMb5OBj0B"
      },
      "source": [
        "def reset_clusters(clusters):\n",
        "  new_clusters = []\n",
        "  for cluster in clusters:\n",
        "    new_clusters.append([cluster[0]])\n",
        "  return new_clusters"
      ],
      "execution_count": 11,
      "outputs": []
    },
    {
      "cell_type": "markdown",
      "metadata": {
        "id": "n9TBwupo_qj-"
      },
      "source": [
        "## Loop Principal"
      ]
    },
    {
      "cell_type": "code",
      "metadata": {
        "id": "M6yll4jkCXGU"
      },
      "source": [
        "## Rotina principal\n",
        "centroids, clusters = create_clusters()\n",
        "must_link, not_link = create_retrictions(dataset)\n",
        "max_iter = 20\n",
        "for iter in range(max_iter):\n",
        "  clusters = reset_clusters(clusters)\n",
        "\n",
        "  ## Assign Clusters\n",
        "  for i in range(len(dataset)):\n",
        "    d = dataset[i]\n",
        "    cluster_idx = get_closest_cluster_index(centroids, d, i, must_link, not_link)\n",
        "    if cluster_idx is None:\n",
        "      print(\"ERROR: Falhou\")\n",
        "      break\n",
        "    if i not in clusters[cluster_idx]:\n",
        "      clusters[cluster_idx].append(i)\n",
        "\n",
        "  ## Recalculate Centroids\n",
        "  for cluster_idx in range(len(clusters)):\n",
        "    cluster_data = get_cluster_data(cluster_idx)\n",
        "    centroids[cluster_idx] = np.mean(cluster_data[:,0:4], axis=0)"
      ],
      "execution_count": 12,
      "outputs": []
    },
    {
      "cell_type": "markdown",
      "metadata": {
        "id": "qk04enFItcWW"
      },
      "source": [
        "# Calculando estatísticas"
      ]
    },
    {
      "cell_type": "markdown",
      "metadata": {
        "id": "pZ465z_NJ_Os"
      },
      "source": [
        "Calculando a distância intra cluster"
      ]
    },
    {
      "cell_type": "code",
      "metadata": {
        "colab": {
          "base_uri": "https://localhost:8080/"
        },
        "id": "hDrLgVegtxtn",
        "outputId": "dc2c1fa0-3e8b-42ef-f4d4-849aa58b1b8a"
      },
      "source": [
        "within_cluster_distances = []\n",
        "\n",
        "\n",
        "for cluster_idx in range(len(clusters)):\n",
        "    cluster_data = get_cluster_data(cluster_idx)\n",
        "    cluster_distance = 0\n",
        "    centroid_dist=[]\n",
        "    for j in range(len(cluster_data)):\n",
        "      \n",
        "      centroid_dist.append(np.linalg.norm(centroids[cluster_idx] - cluster_data[j, 0:4]))\n",
        "\n",
        "    cluster_distance += np.sum(centroid_dist)\n",
        "    \n",
        "\n",
        "    within_cluster_distances.append(((cluster_distance) / len(clusters)))\n",
        "        \n",
        "    \n",
        "      \n",
        "print(within_cluster_distances)"
      ],
      "execution_count": 13,
      "outputs": [
        {
          "output_type": "stream",
          "name": "stdout",
          "text": [
            "[13.022306607170757, 11.929253365649034, 8.02842060772114]\n"
          ]
        }
      ]
    },
    {
      "cell_type": "markdown",
      "metadata": {
        "id": "xIdHlnhlt0vy"
      },
      "source": [
        "Calculando distância entre clusters"
      ]
    },
    {
      "cell_type": "code",
      "metadata": {
        "colab": {
          "base_uri": "https://localhost:8080/"
        },
        "id": "USBhMKdXt_F5",
        "outputId": "d1cdf8f9-8f70-455d-b697-171dc2ca6f30"
      },
      "source": [
        "inter_cluster_distance_matrix = np.zeros((len(clusters), len(clusters)))\n",
        "\n",
        "for cluster_idx_i in range(len(clusters)):\n",
        "    for cluster_idx_j in range(len(clusters)):\n",
        "      inter_cluster_distance_matrix[cluster_idx_i][cluster_idx_j] = np.linalg.norm(centroids[cluster_idx_i] - centroids[cluster_idx_j])\n",
        "     \n",
        "inter_cluster_distance_matrix\n",
        "    "
      ],
      "execution_count": 14,
      "outputs": [
        {
          "output_type": "execute_result",
          "data": {
            "text/plain": [
              "array([[0.        , 1.67622579, 3.28105443],\n",
              "       [1.67622579, 0.        , 4.84588987],\n",
              "       [3.28105443, 4.84588987, 0.        ]])"
            ]
          },
          "metadata": {},
          "execution_count": 14
        }
      ]
    },
    {
      "cell_type": "markdown",
      "metadata": {
        "id": "4fnZCG3JClGP"
      },
      "source": [
        "## Plotando Dados"
      ]
    },
    {
      "cell_type": "code",
      "metadata": {
        "colab": {
          "base_uri": "https://localhost:8080/",
          "height": 605
        },
        "id": "UPrXTpRu3DrU",
        "outputId": "02607d76-9cfb-4cf4-b360-fe81587e15d1"
      },
      "source": [
        "cluster = get_cluster_data(0)\n",
        "colors = ['#DF2020', '#81DF20', '#2095DF']\n",
        "colors_dict = { \n",
        "    0: '#DF2020',\n",
        "    1: '#81DF20',\n",
        "    2: '#2095DF',\n",
        "    None: '#000000'\n",
        "}\n",
        "colors = []\n",
        "for data in dataset:\n",
        "  colors.append(colors_dict[data[4]])\n",
        "dt = np.array(dataset)\n",
        "\n",
        "plt.scatter(dt[:,0:1],dt[:,2:3], c=colors, alpha = 0.6, s=10)\n",
        "plt.title('Dataset with labeled values\\n', loc='left', fontsize=22)\n",
        "plt.show()\n",
        "\n",
        "all_clusters = np.concatenate((get_cluster_data(0), get_cluster_data(1), get_cluster_data(2)))\n",
        "colors = []\n",
        "for i in range(3):\n",
        "  for data in get_cluster_data(i):\n",
        "    colors.append(colors_dict[i])\n",
        "\n",
        "plt.scatter(all_clusters[:,0:1],all_clusters[:,2:3], c=colors, alpha = 0.6, s=10)\n",
        "plt.title('COP-Kmeans Clusters\\n', loc='left', fontsize=22)\n",
        "plt.show()\n"
      ],
      "execution_count": 15,
      "outputs": [
        {
          "output_type": "display_data",
          "data": {
            "image/png": "[encoded data removed]",
            "text/plain": [
              "<Figure size 432x288 with 1 Axes>"
            ]
          },
          "metadata": {
            "needs_background": "light"
          }
        },
        {
          "output_type": "display_data",
          "data": {
            "image/png": "[encoded data removed]",
            "text/plain": [
              "<Figure size 432x288 with 1 Axes>"
            ]
          },
          "metadata": {
            "needs_background": "light"
          }
        }
      ]
    },
    {
      "cell_type": "markdown",
      "metadata": {
        "id": "ZEMxkZEr-utn"
      },
      "source": [
        "# Kmeans K-learn"
      ]
    },
    {
      "cell_type": "code",
      "metadata": {
        "colab": {
          "base_uri": "https://localhost:8080/",
          "height": 605
        },
        "id": "GnuHEDsH3gfq",
        "outputId": "50ac5d64-cd2c-4205-f989-ed5e026ab521"
      },
      "source": [
        "from sklearn.cluster import KMeans\n",
        "from sklearn.metrics import davies_bouldin_score\n",
        "skX = X[:,0:4]\n",
        "\n",
        "kmeans = KMeans(n_clusters=3, random_state=0).fit(skX)\n",
        "colors = []\n",
        "for label in kmeans.labels_:\n",
        "  colors.append(colors_dict[label])\n",
        "\n",
        "plt.scatter(skX[:,0:1],skX[:,2:3], c=colors, alpha = 0.6, s=10)\n",
        "plt.title('Kmeans with SkLearn\\n', loc='left', fontsize=22)\n",
        "plt.show()\n",
        "\n",
        "colors = []\n",
        "for label in X[:,4:5]:\n",
        "  colors.append(colors_dict[label[0]])\n",
        "\n",
        "plt.scatter(skX[:,0:1],skX[:,2:3], c=colors, alpha = 0.6, s=10)\n",
        "plt.title('Real Labels\\n', loc='left', fontsize=22)\n",
        "plt.show()\n"
      ],
      "execution_count": 16,
      "outputs": [
        {
          "output_type": "display_data",
          "data": {
            "image/png": "[encoded data removed]",
            "text/plain": [
              "<Figure size 432x288 with 1 Axes>"
            ]
          },
          "metadata": {
            "needs_background": "light"
          }
        },
        {
          "output_type": "display_data",
          "data": {
            "image/png": "[encoded data removed]",
            "text/plain": [
              "<Figure size 432x288 with 1 Axes>"
            ]
          },
          "metadata": {
            "needs_background": "light"
          }
        }
      ]
    },
    {
      "cell_type": "markdown",
      "metadata": {
        "id": "BIH8FXPhDfE7"
      },
      "source": [
        "## Estatisticas\n"
      ]
    }
  ]
}